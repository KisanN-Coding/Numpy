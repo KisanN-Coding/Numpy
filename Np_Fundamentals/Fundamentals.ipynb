{
 "cells": [
  {
   "cell_type": "markdown",
   "id": "cdac601f",
   "metadata": {},
   "source": [
    "## What is NumPy?\n",
    "\n",
    "**NumPy** (Numerical Python) is a powerful library in Python used for **scientific and numerical computing**. It makes working with numbers and large datasets much easier and faster.\n",
    "\n",
    "---\n",
    "\n",
    "#### Key Features of NumPy:\n",
    "\n",
    "- **Main Tool :** It provides a special object called **`ndarray`** (n-dimensional array), which lets you store and work with large collections of numbers in a very efficient way\n",
    "\n",
    "- You can do **math operations** like addition, subtraction, multiplication, and more on whole arrays at once\n",
    "\n",
    "- It supports **logical operations**, **sorting**, **filtering**, and **changing shapes** of arrays easily\n",
    "\n",
    "- It includes tools for:\n",
    "  - **Linear Algebra** (like solving equations or matrix multiplication)\n",
    "\n",
    "  - **Statistics** (like mean, median, standard deviation)\n",
    "\n",
    "  - **Random number generation** (for simulations or testing)\n",
    "\n",
    "  - **Fourier transforms** (used in signal processing)\n",
    "\n",
    "  - **Input/Output operations** (reading or writing data)\n",
    "\n",
    "---\n",
    "\n",
    "#### Why use NumPy?\n",
    "\n",
    "- It's **much faster** than normal Python lists when handling lots of numbers\n",
    "\n",
    "- It's the **foundation** for other libraries like **Pandas**, **SciPy**, and even machine learning libraries like **TensorFlow**.\n"
   ]
  },
  {
   "cell_type": "markdown",
   "id": "1c25ab0d",
   "metadata": {},
   "source": [
    "### **NumPy Arrays vs Python Sequences (Lists/Tuples)**\n",
    "\n",
    "#### **Comparison Table**\n",
    "\n",
    "| Feature | NumPy Array | Python Sequence (List/Tuple) |\n",
    "|--------|-------------|-------------------------------|\n",
    "| **Size** | Fixed when created | Can grow or shrink dynamically |\n",
    "| **Data Type** | All elements must be of the same type | Elements can be of different types |\n",
    "| **Speed** | Much faster for large data and operations | Slower for large data |\n",
    "| **Memory** | Uses less memory (elements stored in same type) | Uses more memory (stores metadata per element) |\n",
    "| **Math Operations** | Supports direct operations like `+`, `*`, `sin`, `mean`, etc. on arrays | Needs loops or list comprehensions |\n",
    "| **Used in Libraries** | Common in scientific packages (like Pandas, Scikit-learn, TensorFlow) | Not optimized for such use cases |\n",
    "\n",
    "---\n",
    "\n",
    "#### **Why Prefer NumPy Arrays ?**\n",
    "\n",
    "- NumPy arrays allow **fast**, **vectorized** operations (no need for loops)\n",
    "\n",
    "- Ideal for **scientific and mathematical computing**\n",
    "\n",
    "- Most modern Python data libraries convert your list/tuple into NumPy arrays internally\n",
    "\n",
    "- Working with NumPy means **less code, faster execution**, and better performance.\n",
    "\n",
    "---\n",
    "\n",
    "#### **Note :**\n",
    "\n",
    "**If you change the size of a NumPy array (e.g., adding/removing elements), it will **create a new array** and delete the original. This is different from lists which allow dynamic resizing**\n"
   ]
  },
  {
   "cell_type": "markdown",
   "id": "48238bc1",
   "metadata": {},
   "source": [
    "#### **Creating Numpy Arrays**"
   ]
  },
  {
   "cell_type": "markdown",
   "id": "296fdbf3",
   "metadata": {},
   "source": [
    "**Importing the numpy library**"
   ]
  },
  {
   "cell_type": "code",
   "execution_count": 1,
   "id": "94fb86e9",
   "metadata": {},
   "outputs": [],
   "source": [
    "import numpy as np"
   ]
  },
  {
   "cell_type": "code",
   "execution_count": 2,
   "id": "05286372",
   "metadata": {},
   "outputs": [
    {
     "name": "stdout",
     "output_type": "stream",
     "text": [
      "[1 2 3 4]\n",
      "<class 'numpy.ndarray'>\n"
     ]
    }
   ],
   "source": [
    "# 1D Array\n",
    "\n",
    "arr = np.array([1,2,3,4])\n",
    "print(arr)\n",
    "\n",
    "print(type(arr))"
   ]
  },
  {
   "cell_type": "code",
   "execution_count": 3,
   "id": "988ec851",
   "metadata": {},
   "outputs": [
    {
     "name": "stdout",
     "output_type": "stream",
     "text": [
      "[[1 2 3 4]\n",
      " [5 6 7 8]]\n"
     ]
    }
   ],
   "source": [
    "# 2D array \n",
    "\n",
    "arr1 = np.array([[1,2,3,4],[5,6,7,8]])\n",
    "\n",
    "print(arr1)\n"
   ]
  },
  {
   "cell_type": "code",
   "execution_count": 4,
   "id": "22608f37",
   "metadata": {},
   "outputs": [
    {
     "name": "stdout",
     "output_type": "stream",
     "text": [
      "[[[1 2]\n",
      "  [3 4]]\n",
      "\n",
      " [[5 6]\n",
      "  [7 8]]]\n"
     ]
    }
   ],
   "source": [
    "# 3D Array\n",
    "\n",
    "arr2 = np.array([[[1,2],[3,4]],[[5,6],[7,8]]])\n",
    "\n",
    "print(arr2)"
   ]
  },
  {
   "cell_type": "markdown",
   "id": "7103eda1",
   "metadata": {},
   "source": [
    "**Creating the array of different**"
   ]
  },
  {
   "cell_type": "code",
   "execution_count": 5,
   "id": "c6b0b53a",
   "metadata": {},
   "outputs": [
    {
     "name": "stdout",
     "output_type": "stream",
     "text": [
      "[1. 2. 3. 4.]\n"
     ]
    }
   ],
   "source": [
    "# float array\n",
    "a = np.array([1,2,3,4],dtype=float)\n",
    "print(a)"
   ]
  },
  {
   "cell_type": "code",
   "execution_count": 6,
   "id": "52cd6955",
   "metadata": {},
   "outputs": [
    {
     "name": "stdout",
     "output_type": "stream",
     "text": [
      "[ True  True  True]\n"
     ]
    }
   ],
   "source": [
    "# bool\n",
    "\n",
    "b = np.array([1,2,3],dtype=bool)\n",
    "print(b)"
   ]
  },
  {
   "cell_type": "code",
   "execution_count": 7,
   "id": "a2193210",
   "metadata": {},
   "outputs": [
    {
     "name": "stdout",
     "output_type": "stream",
     "text": [
      "[1.+0.j 2.+0.j 3.+0.j]\n"
     ]
    }
   ],
   "source": [
    "# complex\n",
    "\n",
    "c = np.array([1,2,3],dtype=complex)\n",
    "print(c)"
   ]
  },
  {
   "cell_type": "markdown",
   "id": "c6b633ed",
   "metadata": {},
   "source": [
    "**Using arange function**"
   ]
  },
  {
   "cell_type": "code",
   "execution_count": 8,
   "id": "5690ed00",
   "metadata": {},
   "outputs": [
    {
     "data": {
      "text/plain": [
       "array([ 1,  2,  3,  4,  5,  6,  7,  8,  9, 10, 11, 12, 13, 14, 15, 16, 17,\n",
       "       18, 19, 20])"
      ]
     },
     "execution_count": 8,
     "metadata": {},
     "output_type": "execute_result"
    }
   ],
   "source": [
    "np.arange(1,21)   # last number ( 21 ) is not included"
   ]
  },
  {
   "cell_type": "code",
   "execution_count": 9,
   "id": "34d57189",
   "metadata": {},
   "outputs": [
    {
     "data": {
      "text/plain": [
       "array([ 1,  3,  5,  7,  9, 11, 13, 15, 17, 19])"
      ]
     },
     "execution_count": 9,
     "metadata": {},
     "output_type": "execute_result"
    }
   ],
   "source": [
    "np.arange(1,21,2)  # For jumps"
   ]
  },
  {
   "cell_type": "markdown",
   "id": "809d3c54",
   "metadata": {},
   "source": [
    "**Using reshape function**"
   ]
  },
  {
   "cell_type": "code",
   "execution_count": 10,
   "id": "fd06a210",
   "metadata": {},
   "outputs": [
    {
     "name": "stdout",
     "output_type": "stream",
     "text": [
      "[ 1  2  3  4  5  6  7  8  9 10]\n"
     ]
    },
    {
     "data": {
      "text/plain": [
       "array([[ 1,  2,  3,  4,  5],\n",
       "       [ 6,  7,  8,  9, 10]])"
      ]
     },
     "execution_count": 10,
     "metadata": {},
     "output_type": "execute_result"
    }
   ],
   "source": [
    "a = np.arange(1,11)\n",
    "print(a)\n",
    "\n",
    "a.reshape(2,5)"
   ]
  },
  {
   "cell_type": "code",
   "execution_count": 11,
   "id": "493eb5ac",
   "metadata": {},
   "outputs": [
    {
     "data": {
      "text/plain": [
       "array([[ 1,  2],\n",
       "       [ 3,  4],\n",
       "       [ 5,  6],\n",
       "       [ 7,  8],\n",
       "       [ 9, 10]])"
      ]
     },
     "execution_count": 11,
     "metadata": {},
     "output_type": "execute_result"
    }
   ],
   "source": [
    "a.reshape(5,2)   # But the product of number (5,2) must be equal to number of elements "
   ]
  },
  {
   "cell_type": "markdown",
   "id": "206997be",
   "metadata": {},
   "source": [
    "**Using ones and zeros function**"
   ]
  },
  {
   "cell_type": "code",
   "execution_count": 12,
   "id": "98266aa3",
   "metadata": {},
   "outputs": [
    {
     "data": {
      "text/plain": [
       "array([[1., 1., 1., 1.],\n",
       "       [1., 1., 1., 1.],\n",
       "       [1., 1., 1., 1.]])"
      ]
     },
     "execution_count": 12,
     "metadata": {},
     "output_type": "execute_result"
    }
   ],
   "source": [
    "# ones\n",
    "\n",
    "np.ones((3,4))"
   ]
  },
  {
   "cell_type": "code",
   "execution_count": 13,
   "id": "8dedfcb0",
   "metadata": {},
   "outputs": [
    {
     "data": {
      "text/plain": [
       "array([[0., 0., 0., 0., 0.],\n",
       "       [0., 0., 0., 0., 0.],\n",
       "       [0., 0., 0., 0., 0.]])"
      ]
     },
     "execution_count": 13,
     "metadata": {},
     "output_type": "execute_result"
    }
   ],
   "source": [
    "# zeros\n",
    "\n",
    "np.zeros((3,5))"
   ]
  },
  {
   "cell_type": "markdown",
   "id": "b32ddd04",
   "metadata": {},
   "source": [
    "**Using random function**"
   ]
  },
  {
   "cell_type": "code",
   "execution_count": 14,
   "id": "37e6f89b",
   "metadata": {},
   "outputs": [
    {
     "data": {
      "text/plain": [
       "array([[0.56065377, 0.3204148 , 0.65181266, 0.88761619, 0.51752512,\n",
       "        0.14606362],\n",
       "       [0.30299303, 0.20794836, 0.6571819 , 0.8676812 , 0.96724491,\n",
       "        0.36661728],\n",
       "       [0.25379793, 0.11544131, 0.25329968, 0.36052664, 0.9110136 ,\n",
       "        0.48844534]])"
      ]
     },
     "execution_count": 14,
     "metadata": {},
     "output_type": "execute_result"
    }
   ],
   "source": [
    "# Generate the random number\n",
    "\n",
    "np.random.random((3,6))"
   ]
  },
  {
   "cell_type": "markdown",
   "id": "137ef754",
   "metadata": {},
   "source": [
    "**Using linspace function**\n",
    "\n",
    "Give me numbers from A to B, with equal gaps, total C numbers"
   ]
  },
  {
   "cell_type": "code",
   "execution_count": 15,
   "id": "dab24ad2",
   "metadata": {},
   "outputs": [
    {
     "data": {
      "text/plain": [
       "array([-10.        ,  -8.94736842,  -7.89473684,  -6.84210526,\n",
       "        -5.78947368,  -4.73684211,  -3.68421053,  -2.63157895,\n",
       "        -1.57894737,  -0.52631579,   0.52631579,   1.57894737,\n",
       "         2.63157895,   3.68421053,   4.73684211,   5.78947368,\n",
       "         6.84210526,   7.89473684,   8.94736842,  10.        ])"
      ]
     },
     "execution_count": 15,
     "metadata": {},
     "output_type": "execute_result"
    }
   ],
   "source": [
    "# np.linspace(lower_range, upper_range, count_of_items)\n",
    "\n",
    "np.linspace(-10,10,20)"
   ]
  },
  {
   "cell_type": "markdown",
   "id": "f8031990",
   "metadata": {},
   "source": [
    "**Using indentity function**"
   ]
  },
  {
   "cell_type": "code",
   "execution_count": 16,
   "id": "aad7941a",
   "metadata": {},
   "outputs": [
    {
     "data": {
      "text/plain": [
       "array([[1., 0., 0., 0.],\n",
       "       [0., 1., 0., 0.],\n",
       "       [0., 0., 1., 0.],\n",
       "       [0., 0., 0., 1.]])"
      ]
     },
     "execution_count": 16,
     "metadata": {},
     "output_type": "execute_result"
    }
   ],
   "source": [
    "np.identity(4)  # 4 means 4 x 4  identity matrix"
   ]
  },
  {
   "cell_type": "markdown",
   "id": "b5c6c8ef",
   "metadata": {},
   "source": [
    "#### **Array Atributes**"
   ]
  },
  {
   "cell_type": "markdown",
   "id": "5976d453",
   "metadata": {},
   "source": [
    "**Creating the array required**"
   ]
  },
  {
   "cell_type": "code",
   "execution_count": 17,
   "id": "2d2feaf1",
   "metadata": {},
   "outputs": [
    {
     "name": "stdout",
     "output_type": "stream",
     "text": [
      "[ 1  2  3  4  5  6  7  8  9 10]\n"
     ]
    }
   ],
   "source": [
    "a1 = np.arange(10)\n",
    "print(a)"
   ]
  },
  {
   "cell_type": "code",
   "execution_count": 18,
   "id": "9201adb8",
   "metadata": {},
   "outputs": [
    {
     "name": "stdout",
     "output_type": "stream",
     "text": [
      "[[ 0.  1.  2.  3.]\n",
      " [ 4.  5.  6.  7.]\n",
      " [ 8.  9. 10. 11.]]\n"
     ]
    }
   ],
   "source": [
    "a2 = np.arange(12,dtype=float).reshape(3,4)\n",
    "print(a2)"
   ]
  },
  {
   "cell_type": "code",
   "execution_count": 19,
   "id": "8ae07935",
   "metadata": {},
   "outputs": [
    {
     "name": "stdout",
     "output_type": "stream",
     "text": [
      "[[[0 1]\n",
      "  [2 3]]\n",
      "\n",
      " [[4 5]\n",
      "  [6 7]]]\n"
     ]
    }
   ],
   "source": [
    "a3 = np.arange(8).reshape(2,2,2)\n",
    "print(a3)"
   ]
  },
  {
   "cell_type": "markdown",
   "id": "49ff0355",
   "metadata": {},
   "source": [
    "**ndim** : it shows the number of dimensions"
   ]
  },
  {
   "cell_type": "code",
   "execution_count": 20,
   "id": "8708dc68",
   "metadata": {},
   "outputs": [
    {
     "data": {
      "text/plain": [
       "1"
      ]
     },
     "execution_count": 20,
     "metadata": {},
     "output_type": "execute_result"
    }
   ],
   "source": [
    "a1.ndim"
   ]
  },
  {
   "cell_type": "code",
   "execution_count": 21,
   "id": "9b221dc4",
   "metadata": {},
   "outputs": [
    {
     "data": {
      "text/plain": [
       "2"
      ]
     },
     "execution_count": 21,
     "metadata": {},
     "output_type": "execute_result"
    }
   ],
   "source": [
    "a2.ndim"
   ]
  },
  {
   "cell_type": "code",
   "execution_count": 22,
   "id": "8a1a1f51",
   "metadata": {},
   "outputs": [
    {
     "data": {
      "text/plain": [
       "3"
      ]
     },
     "execution_count": 22,
     "metadata": {},
     "output_type": "execute_result"
    }
   ],
   "source": [
    "a3.ndim"
   ]
  },
  {
   "cell_type": "markdown",
   "id": "d88be1bb",
   "metadata": {},
   "source": [
    "**shape** : tell the shape of array , means row and columns"
   ]
  },
  {
   "cell_type": "code",
   "execution_count": 23,
   "id": "19509994",
   "metadata": {},
   "outputs": [
    {
     "name": "stdout",
     "output_type": "stream",
     "text": [
      "[0 1 2 3 4 5 6 7 8 9]\n",
      "\n",
      "(10,)\n"
     ]
    }
   ],
   "source": [
    "print(a1)\n",
    "print()\n",
    "print(a1.shape)"
   ]
  },
  {
   "cell_type": "code",
   "execution_count": 24,
   "id": "c1800913",
   "metadata": {},
   "outputs": [
    {
     "name": "stdout",
     "output_type": "stream",
     "text": [
      "[[ 0.  1.  2.  3.]\n",
      " [ 4.  5.  6.  7.]\n",
      " [ 8.  9. 10. 11.]]\n",
      "\n",
      "(3, 4)\n"
     ]
    }
   ],
   "source": [
    "print(a2)\n",
    "print()\n",
    "print(a2.shape)"
   ]
  },
  {
   "cell_type": "code",
   "execution_count": 25,
   "id": "e9486df5",
   "metadata": {},
   "outputs": [
    {
     "name": "stdout",
     "output_type": "stream",
     "text": [
      "[[[0 1]\n",
      "  [2 3]]\n",
      "\n",
      " [[4 5]\n",
      "  [6 7]]]\n",
      "\n",
      "(2, 2, 2)\n"
     ]
    }
   ],
   "source": [
    "print(a3)\n",
    "print()\n",
    "print(a3.shape)"
   ]
  },
  {
   "cell_type": "markdown",
   "id": "4469ec6d",
   "metadata": {},
   "source": [
    "**size** : it tell us the number of items in array"
   ]
  },
  {
   "cell_type": "code",
   "execution_count": 26,
   "id": "6df4a4ef",
   "metadata": {},
   "outputs": [
    {
     "data": {
      "text/plain": [
       "8"
      ]
     },
     "execution_count": 26,
     "metadata": {},
     "output_type": "execute_result"
    }
   ],
   "source": [
    "a3.size"
   ]
  },
  {
   "cell_type": "code",
   "execution_count": 27,
   "id": "946ed6fa",
   "metadata": {},
   "outputs": [
    {
     "data": {
      "text/plain": [
       "12"
      ]
     },
     "execution_count": 27,
     "metadata": {},
     "output_type": "execute_result"
    }
   ],
   "source": [
    "a2.size"
   ]
  },
  {
   "cell_type": "markdown",
   "id": "8219946b",
   "metadata": {},
   "source": [
    "**itemsize** : tell us that , how much space an item is occupying in memory ( tell in bytes)"
   ]
  },
  {
   "cell_type": "code",
   "execution_count": 28,
   "id": "33fe5199",
   "metadata": {},
   "outputs": [
    {
     "data": {
      "text/plain": [
       "8"
      ]
     },
     "execution_count": 28,
     "metadata": {},
     "output_type": "execute_result"
    }
   ],
   "source": [
    "a1.itemsize   # in bytes"
   ]
  },
  {
   "cell_type": "code",
   "execution_count": 29,
   "id": "dc8912c1",
   "metadata": {},
   "outputs": [
    {
     "data": {
      "text/plain": [
       "8"
      ]
     },
     "execution_count": 29,
     "metadata": {},
     "output_type": "execute_result"
    }
   ],
   "source": [
    "a2.itemsize"
   ]
  },
  {
   "cell_type": "code",
   "execution_count": 30,
   "id": "66e2f440",
   "metadata": {},
   "outputs": [
    {
     "data": {
      "text/plain": [
       "8"
      ]
     },
     "execution_count": 30,
     "metadata": {},
     "output_type": "execute_result"
    }
   ],
   "source": [
    "a3.itemsize"
   ]
  },
  {
   "cell_type": "markdown",
   "id": "4a82dfef",
   "metadata": {},
   "source": [
    "**dtype** : tell the data type of items in array"
   ]
  },
  {
   "cell_type": "code",
   "execution_count": 31,
   "id": "b6da7bb7",
   "metadata": {},
   "outputs": [
    {
     "name": "stdout",
     "output_type": "stream",
     "text": [
      "int64\n",
      "float64\n",
      "int64\n"
     ]
    }
   ],
   "source": [
    "print(a1.dtype)\n",
    "print(a2.dtype)\n",
    "print(a3.dtype)"
   ]
  },
  {
   "cell_type": "markdown",
   "id": "862afdbe",
   "metadata": {},
   "source": [
    "##### **Changing data type**"
   ]
  },
  {
   "cell_type": "code",
   "execution_count": 32,
   "id": "c046e055",
   "metadata": {},
   "outputs": [
    {
     "name": "stdout",
     "output_type": "stream",
     "text": [
      "[[0 1 2 3 4]\n",
      " [5 6 7 8 9]]\n"
     ]
    },
    {
     "data": {
      "text/plain": [
       "array([[0, 1, 2, 3, 4],\n",
       "       [5, 6, 7, 8, 9]], dtype=int32)"
      ]
     },
     "execution_count": 32,
     "metadata": {},
     "output_type": "execute_result"
    }
   ],
   "source": [
    "# astype\n",
    "\n",
    "a = np.arange(10).reshape(2,5)\n",
    "print(a)\n",
    "\n",
    "a.astype(np.int32)\n",
    "\n"
   ]
  },
  {
   "cell_type": "markdown",
   "id": "f4bb79e4",
   "metadata": {},
   "source": [
    "#### **Operations on Array**"
   ]
  },
  {
   "cell_type": "code",
   "execution_count": 33,
   "id": "5b8f4939",
   "metadata": {},
   "outputs": [],
   "source": [
    "a1 = np.arange(12).reshape(3,4)\n",
    "a2 = np.arange(12,24).reshape(3,4)"
   ]
  },
  {
   "cell_type": "code",
   "execution_count": 34,
   "id": "41357466",
   "metadata": {},
   "outputs": [
    {
     "name": "stdout",
     "output_type": "stream",
     "text": [
      "[[ 0  1  2  3]\n",
      " [ 4  5  6  7]\n",
      " [ 8  9 10 11]]\n",
      "\n",
      "[[12 13 14 15]\n",
      " [16 17 18 19]\n",
      " [20 21 22 23]]\n"
     ]
    }
   ],
   "source": [
    "print(a1)\n",
    "print()\n",
    "print(a2)"
   ]
  },
  {
   "cell_type": "markdown",
   "id": "32920fe0",
   "metadata": {},
   "source": [
    "##### **Scalar Operations**"
   ]
  },
  {
   "cell_type": "markdown",
   "id": "74ecd959",
   "metadata": {},
   "source": [
    "**Arithemetic operations**"
   ]
  },
  {
   "cell_type": "code",
   "execution_count": 35,
   "id": "c81d21d7",
   "metadata": {},
   "outputs": [
    {
     "data": {
      "text/plain": [
       "array([[ 0,  2,  4,  6],\n",
       "       [ 8, 10, 12, 14],\n",
       "       [16, 18, 20, 22]])"
      ]
     },
     "execution_count": 35,
     "metadata": {},
     "output_type": "execute_result"
    }
   ],
   "source": [
    "a1 * 2\n",
    "\n",
    "# All will work , / , + , - "
   ]
  },
  {
   "cell_type": "markdown",
   "id": "97fec75e",
   "metadata": {},
   "source": [
    "**Relationship operations**"
   ]
  },
  {
   "cell_type": "code",
   "execution_count": 36,
   "id": "51065da9",
   "metadata": {},
   "outputs": [
    {
     "data": {
      "text/plain": [
       "array([[False, False,  True,  True],\n",
       "       [ True,  True,  True,  True],\n",
       "       [ True,  True,  True,  True]])"
      ]
     },
     "execution_count": 36,
     "metadata": {},
     "output_type": "execute_result"
    }
   ],
   "source": [
    "a2 > 13"
   ]
  },
  {
   "cell_type": "markdown",
   "id": "607498c2",
   "metadata": {},
   "source": [
    "##### **Vector Operations**"
   ]
  },
  {
   "cell_type": "code",
   "execution_count": 37,
   "id": "98396f5a",
   "metadata": {},
   "outputs": [
    {
     "data": {
      "text/plain": [
       "array([[12, 14, 16, 18],\n",
       "       [20, 22, 24, 26],\n",
       "       [28, 30, 32, 34]])"
      ]
     },
     "execution_count": 37,
     "metadata": {},
     "output_type": "execute_result"
    }
   ],
   "source": [
    "# arithmetic \n",
    "\n",
    "a1 + a2  # itemwise addition\n",
    "\n",
    "# Here also all will work"
   ]
  },
  {
   "cell_type": "markdown",
   "id": "ebc0697f",
   "metadata": {},
   "source": [
    "#### **Array Functions**"
   ]
  },
  {
   "cell_type": "code",
   "execution_count": 38,
   "id": "57e744a9",
   "metadata": {},
   "outputs": [
    {
     "data": {
      "text/plain": [
       "array([[61., 43., 95.],\n",
       "       [83., 55., 17.],\n",
       "       [85., 50., 41.]])"
      ]
     },
     "execution_count": 38,
     "metadata": {},
     "output_type": "execute_result"
    }
   ],
   "source": [
    "a1 = np.random.random((3,3))\n",
    "a1 = np.round(a1*100)\n",
    "a1"
   ]
  },
  {
   "cell_type": "markdown",
   "id": "2bf3d1d2",
   "metadata": {},
   "source": [
    "**max , min , sum , prod**"
   ]
  },
  {
   "cell_type": "code",
   "execution_count": 39,
   "id": "8ff25c21",
   "metadata": {},
   "outputs": [
    {
     "name": "stdout",
     "output_type": "stream",
     "text": [
      "95.0\n"
     ]
    }
   ],
   "source": [
    "# max\n",
    "\n",
    "print(np.max(a1))"
   ]
  },
  {
   "cell_type": "code",
   "execution_count": 40,
   "id": "4152184a",
   "metadata": {},
   "outputs": [
    {
     "name": "stdout",
     "output_type": "stream",
     "text": [
      "17.0\n"
     ]
    }
   ],
   "source": [
    "# min\n",
    "\n",
    "print(np.min(a1))"
   ]
  },
  {
   "cell_type": "code",
   "execution_count": 41,
   "id": "256a4e17",
   "metadata": {},
   "outputs": [
    {
     "name": "stdout",
     "output_type": "stream",
     "text": [
      "530.0\n"
     ]
    }
   ],
   "source": [
    "# sum\n",
    "\n",
    "print(np.sum(a1))"
   ]
  },
  {
   "cell_type": "code",
   "execution_count": 42,
   "id": "3df1ffd6",
   "metadata": {},
   "outputs": [
    {
     "name": "stdout",
     "output_type": "stream",
     "text": [
      "3369646835431250.0\n"
     ]
    }
   ],
   "source": [
    "# prod\n",
    "\n",
    "print(np.prod(a1))"
   ]
  },
  {
   "cell_type": "code",
   "execution_count": 43,
   "id": "1774e0d3",
   "metadata": {},
   "outputs": [
    {
     "name": "stdout",
     "output_type": "stream",
     "text": [
      "[95. 83. 85.]\n"
     ]
    }
   ],
   "source": [
    "# For operations on row or column we have to change the axis\n",
    "# axis --> 0 = column\n",
    "# axis --> 1 = rows\n",
    "\n",
    "print(np.max(a1,axis=1))  # for rows\n",
    "\n",
    "# same for min , sum , and prod"
   ]
  },
  {
   "cell_type": "markdown",
   "id": "68bbf2a1",
   "metadata": {},
   "source": [
    "**mean , std , median , var**"
   ]
  },
  {
   "cell_type": "code",
   "execution_count": 44,
   "id": "55ae03cf",
   "metadata": {},
   "outputs": [
    {
     "name": "stdout",
     "output_type": "stream",
     "text": [
      "58.888888888888886\n"
     ]
    }
   ],
   "source": [
    "# mean\n",
    "\n",
    "print(np.mean(a1))"
   ]
  },
  {
   "cell_type": "code",
   "execution_count": 45,
   "id": "f3c03e56",
   "metadata": {},
   "outputs": [
    {
     "name": "stdout",
     "output_type": "stream",
     "text": [
      "55.0\n"
     ]
    }
   ],
   "source": [
    "# median\n",
    "\n",
    "print(np.median(a1))"
   ]
  },
  {
   "cell_type": "code",
   "execution_count": 46,
   "id": "09f9c1e1",
   "metadata": {},
   "outputs": [
    {
     "name": "stdout",
     "output_type": "stream",
     "text": [
      "23.553459026197523\n"
     ]
    }
   ],
   "source": [
    "# std\n",
    "\n",
    "print(np.std(a1))"
   ]
  },
  {
   "cell_type": "code",
   "execution_count": 47,
   "id": "629a8e99",
   "metadata": {},
   "outputs": [
    {
     "name": "stdout",
     "output_type": "stream",
     "text": [
      "554.7654320987655\n"
     ]
    }
   ],
   "source": [
    "# varaince\n",
    "\n",
    "print(np.var(a1))"
   ]
  },
  {
   "cell_type": "markdown",
   "id": "d6d58010",
   "metadata": {},
   "source": [
    "**Trigonometric functions**"
   ]
  },
  {
   "cell_type": "code",
   "execution_count": 48,
   "id": "8bc3a718",
   "metadata": {},
   "outputs": [
    {
     "name": "stdout",
     "output_type": "stream",
     "text": [
      "[[-0.96611777 -0.83177474  0.68326171]\n",
      " [ 0.96836446 -0.99975517 -0.96139749]\n",
      " [-0.17607562 -0.26237485 -0.15862267]]\n"
     ]
    }
   ],
   "source": [
    "print(np.sin(a1))\n",
    "\n",
    "# Other all will work , but not much used in data science"
   ]
  },
  {
   "cell_type": "markdown",
   "id": "361b839f",
   "metadata": {},
   "source": [
    "**dot function**"
   ]
  },
  {
   "cell_type": "code",
   "execution_count": 49,
   "id": "323b0cb5",
   "metadata": {},
   "outputs": [
    {
     "name": "stdout",
     "output_type": "stream",
     "text": [
      "[[ 0  1  2  3]\n",
      " [ 4  5  6  7]\n",
      " [ 8  9 10 11]]\n",
      "\n",
      "[[12 13 14]\n",
      " [15 16 17]\n",
      " [18 19 20]\n",
      " [21 22 23]]\n"
     ]
    }
   ],
   "source": [
    "a2 = np.arange(12).reshape(3,4)\n",
    "a3 = np.arange(12,24).reshape(4,3)\n",
    "\n",
    "print(a2)\n",
    "print()\n",
    "print(a3)\n",
    "\n"
   ]
  },
  {
   "cell_type": "code",
   "execution_count": 50,
   "id": "19e7cdfb",
   "metadata": {},
   "outputs": [
    {
     "data": {
      "text/plain": [
       "array([[114, 120, 126],\n",
       "       [378, 400, 422],\n",
       "       [642, 680, 718]])"
      ]
     },
     "execution_count": 50,
     "metadata": {},
     "output_type": "execute_result"
    }
   ],
   "source": [
    "# dot product\n",
    "\n",
    "np.dot(a2,a3)"
   ]
  },
  {
   "cell_type": "markdown",
   "id": "b620ae42",
   "metadata": {},
   "source": [
    "**log and exponents**"
   ]
  },
  {
   "cell_type": "code",
   "execution_count": 51,
   "id": "37c05eb6",
   "metadata": {},
   "outputs": [
    {
     "data": {
      "text/plain": [
       "array([[4.11087386, 3.76120012, 4.55387689],\n",
       "       [4.41884061, 4.00733319, 2.83321334],\n",
       "       [4.44265126, 3.91202301, 3.71357207]])"
      ]
     },
     "execution_count": 51,
     "metadata": {},
     "output_type": "execute_result"
    }
   ],
   "source": [
    "# log\n",
    "\n",
    "np.log(a1)"
   ]
  },
  {
   "cell_type": "code",
   "execution_count": 52,
   "id": "c6cde990",
   "metadata": {},
   "outputs": [
    {
     "data": {
      "text/plain": [
       "array([[3.10429794e+26, 4.72783947e+18, 1.81123908e+41],\n",
       "       [1.11286375e+36, 7.69478527e+23, 2.41549528e+07],\n",
       "       [8.22301271e+36, 5.18470553e+21, 6.39843494e+17]])"
      ]
     },
     "execution_count": 52,
     "metadata": {},
     "output_type": "execute_result"
    }
   ],
   "source": [
    "# Exponents\n",
    "\n",
    "np.exp(a1)"
   ]
  },
  {
   "cell_type": "markdown",
   "id": "13490646",
   "metadata": {},
   "source": [
    "**round , floor , ceil**"
   ]
  },
  {
   "cell_type": "code",
   "execution_count": 53,
   "id": "3ed595dd",
   "metadata": {},
   "outputs": [
    {
     "name": "stdout",
     "output_type": "stream",
     "text": [
      "[[64.59313214 37.51614727 92.86938098]\n",
      " [16.58885428 97.53063889 45.11200747]]\n"
     ]
    },
    {
     "data": {
      "text/plain": [
       "array([[65., 38., 93.],\n",
       "       [17., 98., 45.]])"
      ]
     },
     "execution_count": 53,
     "metadata": {},
     "output_type": "execute_result"
    }
   ],
   "source": [
    "# round \n",
    "a = np.random.random((2,3))*100\n",
    "print(a)\n",
    "\n",
    "np.round(a)"
   ]
  },
  {
   "cell_type": "code",
   "execution_count": 54,
   "id": "5b72ebad",
   "metadata": {},
   "outputs": [
    {
     "data": {
      "text/plain": [
       "array([[64., 37., 92.],\n",
       "       [16., 97., 45.]])"
      ]
     },
     "execution_count": 54,
     "metadata": {},
     "output_type": "execute_result"
    }
   ],
   "source": [
    "np.floor(a)"
   ]
  },
  {
   "cell_type": "code",
   "execution_count": 55,
   "id": "a7d635ea",
   "metadata": {},
   "outputs": [
    {
     "data": {
      "text/plain": [
       "array([[65., 38., 93.],\n",
       "       [17., 98., 46.]])"
      ]
     },
     "execution_count": 55,
     "metadata": {},
     "output_type": "execute_result"
    }
   ],
   "source": [
    "np.ceil(a)"
   ]
  },
  {
   "cell_type": "markdown",
   "id": "aae771e4",
   "metadata": {},
   "source": [
    "#### **Indexing and Slicing**"
   ]
  },
  {
   "cell_type": "code",
   "execution_count": 56,
   "id": "6b569007",
   "metadata": {},
   "outputs": [],
   "source": [
    "a1 = np.arange(15)\n",
    "a2 = np.arange(12).reshape(3,4)\n",
    "a3 = np.arange(8).reshape(2,2,2)\n"
   ]
  },
  {
   "cell_type": "code",
   "execution_count": 57,
   "id": "a1571d97",
   "metadata": {},
   "outputs": [
    {
     "data": {
      "text/plain": [
       "array([ 0,  1,  2,  3,  4,  5,  6,  7,  8,  9, 10, 11, 12, 13, 14])"
      ]
     },
     "execution_count": 57,
     "metadata": {},
     "output_type": "execute_result"
    }
   ],
   "source": [
    "a1"
   ]
  },
  {
   "cell_type": "markdown",
   "id": "ed0e913f",
   "metadata": {},
   "source": [
    "**Indexing**"
   ]
  },
  {
   "cell_type": "code",
   "execution_count": 58,
   "id": "1e133b8d",
   "metadata": {},
   "outputs": [
    {
     "name": "stdout",
     "output_type": "stream",
     "text": [
      "14\n"
     ]
    }
   ],
   "source": [
    "print(a1[-1])\n",
    "\n",
    "# same as we learn in python"
   ]
  },
  {
   "cell_type": "markdown",
   "id": "950224eb",
   "metadata": {},
   "source": [
    "For 2D"
   ]
  },
  {
   "cell_type": "code",
   "execution_count": 59,
   "id": "62171cab",
   "metadata": {},
   "outputs": [
    {
     "data": {
      "text/plain": [
       "array([[ 0,  1,  2,  3],\n",
       "       [ 4,  5,  6,  7],\n",
       "       [ 8,  9, 10, 11]])"
      ]
     },
     "execution_count": 59,
     "metadata": {},
     "output_type": "execute_result"
    }
   ],
   "source": [
    "a2"
   ]
  },
  {
   "cell_type": "code",
   "execution_count": 60,
   "id": "28408e5b",
   "metadata": {},
   "outputs": [
    {
     "name": "stdout",
     "output_type": "stream",
     "text": [
      "6\n"
     ]
    }
   ],
   "source": [
    "print(a2[1,2])"
   ]
  },
  {
   "cell_type": "code",
   "execution_count": 61,
   "id": "20fd0934",
   "metadata": {},
   "outputs": [
    {
     "name": "stdout",
     "output_type": "stream",
     "text": [
      "11\n",
      "4\n"
     ]
    }
   ],
   "source": [
    "print(a2[2,3])\n",
    "\n",
    "print(a2[1,0])"
   ]
  },
  {
   "cell_type": "markdown",
   "id": "9ea0493c",
   "metadata": {},
   "source": [
    "For 3D"
   ]
  },
  {
   "cell_type": "code",
   "execution_count": 62,
   "id": "e9ee6ac6",
   "metadata": {},
   "outputs": [
    {
     "data": {
      "text/plain": [
       "array([[[0, 1],\n",
       "        [2, 3]],\n",
       "\n",
       "       [[4, 5],\n",
       "        [6, 7]]])"
      ]
     },
     "execution_count": 62,
     "metadata": {},
     "output_type": "execute_result"
    }
   ],
   "source": [
    "a3"
   ]
  },
  {
   "cell_type": "code",
   "execution_count": 63,
   "id": "b58e4ab1",
   "metadata": {},
   "outputs": [
    {
     "name": "stdout",
     "output_type": "stream",
     "text": [
      "5\n"
     ]
    }
   ],
   "source": [
    "print(a3[1,0,1])"
   ]
  },
  {
   "cell_type": "code",
   "execution_count": 64,
   "id": "7955ed40",
   "metadata": {},
   "outputs": [
    {
     "name": "stdout",
     "output_type": "stream",
     "text": [
      "2\n"
     ]
    }
   ],
   "source": [
    "print(a3[0,1,0])"
   ]
  },
  {
   "cell_type": "markdown",
   "id": "c61e6f9b",
   "metadata": {},
   "source": [
    "**Slicing**"
   ]
  },
  {
   "cell_type": "markdown",
   "id": "734b66fb",
   "metadata": {},
   "source": [
    "For 1D"
   ]
  },
  {
   "cell_type": "code",
   "execution_count": 65,
   "id": "9f36e8c8",
   "metadata": {},
   "outputs": [
    {
     "data": {
      "text/plain": [
       "array([ 0,  1,  2,  3,  4,  5,  6,  7,  8,  9, 10, 11, 12, 13, 14])"
      ]
     },
     "execution_count": 65,
     "metadata": {},
     "output_type": "execute_result"
    }
   ],
   "source": [
    "a1"
   ]
  },
  {
   "cell_type": "code",
   "execution_count": 66,
   "id": "c54e93ac",
   "metadata": {},
   "outputs": [
    {
     "name": "stdout",
     "output_type": "stream",
     "text": [
      "[3 4 5]\n"
     ]
    }
   ],
   "source": [
    "print(a1[3:6])"
   ]
  },
  {
   "cell_type": "code",
   "execution_count": 67,
   "id": "62737cf4",
   "metadata": {},
   "outputs": [
    {
     "name": "stdout",
     "output_type": "stream",
     "text": [
      "[ 9 11 13]\n"
     ]
    }
   ],
   "source": [
    "print(a1[9:14:2])   # jumps"
   ]
  },
  {
   "cell_type": "markdown",
   "id": "ac235978",
   "metadata": {},
   "source": [
    "For 2D"
   ]
  },
  {
   "cell_type": "code",
   "execution_count": 68,
   "id": "c5d7e33a",
   "metadata": {},
   "outputs": [
    {
     "data": {
      "text/plain": [
       "array([[ 0,  1,  2,  3],\n",
       "       [ 4,  5,  6,  7],\n",
       "       [ 8,  9, 10, 11]])"
      ]
     },
     "execution_count": 68,
     "metadata": {},
     "output_type": "execute_result"
    }
   ],
   "source": [
    "a2"
   ]
  },
  {
   "cell_type": "code",
   "execution_count": 75,
   "id": "d59ddf77",
   "metadata": {},
   "outputs": [
    {
     "name": "stdout",
     "output_type": "stream",
     "text": [
      "[ 2  6 10]\n"
     ]
    }
   ],
   "source": [
    "print(a2[:,2])"
   ]
  },
  {
   "cell_type": "code",
   "execution_count": 84,
   "id": "2c9b1e42",
   "metadata": {},
   "outputs": [
    {
     "name": "stdout",
     "output_type": "stream",
     "text": [
      "[[ 5  6]\n",
      " [ 9 10]]\n"
     ]
    }
   ],
   "source": [
    "print(a2[1:,1:3])"
   ]
  },
  {
   "cell_type": "code",
   "execution_count": null,
   "id": "5aa4431a",
   "metadata": {},
   "outputs": [
    {
     "name": "stdout",
     "output_type": "stream",
     "text": [
      "[[ 0  3]\n",
      " [ 8 11]]\n"
     ]
    }
   ],
   "source": [
    "print(a2[::2,::3])   # this was little tricky"
   ]
  },
  {
   "cell_type": "code",
   "execution_count": 94,
   "id": "1946d6ba",
   "metadata": {},
   "outputs": [
    {
     "data": {
      "text/plain": [
       "array([[ 0,  1,  2,  3],\n",
       "       [ 4,  5,  6,  7],\n",
       "       [ 8,  9, 10, 11]])"
      ]
     },
     "execution_count": 94,
     "metadata": {},
     "output_type": "execute_result"
    }
   ],
   "source": [
    "a2"
   ]
  },
  {
   "cell_type": "code",
   "execution_count": 96,
   "id": "f0b8476a",
   "metadata": {},
   "outputs": [
    {
     "name": "stdout",
     "output_type": "stream",
     "text": [
      "[[ 1  3]\n",
      " [ 9 11]]\n"
     ]
    }
   ],
   "source": [
    "print(a2[::2,1::2])"
   ]
  },
  {
   "cell_type": "code",
   "execution_count": 98,
   "id": "f08029a7",
   "metadata": {},
   "outputs": [
    {
     "name": "stdout",
     "output_type": "stream",
     "text": [
      "[[4 7]]\n"
     ]
    }
   ],
   "source": [
    "print(a2[1:2,::3])"
   ]
  },
  {
   "cell_type": "code",
   "execution_count": 101,
   "id": "f4c2d5c4",
   "metadata": {},
   "outputs": [
    {
     "name": "stdout",
     "output_type": "stream",
     "text": [
      "[[1 3]\n",
      " [5 7]]\n"
     ]
    }
   ],
   "source": [
    "print(a2[0:2,1::2])"
   ]
  },
  {
   "cell_type": "markdown",
   "id": "eb89e5ac",
   "metadata": {},
   "source": [
    "For 3D"
   ]
  },
  {
   "cell_type": "code",
   "execution_count": 104,
   "id": "d9ba458f",
   "metadata": {},
   "outputs": [
    {
     "data": {
      "text/plain": [
       "array([[[ 0,  1,  2],\n",
       "        [ 3,  4,  5],\n",
       "        [ 6,  7,  8]],\n",
       "\n",
       "       [[ 9, 10, 11],\n",
       "        [12, 13, 14],\n",
       "        [15, 16, 17]],\n",
       "\n",
       "       [[18, 19, 20],\n",
       "        [21, 22, 23],\n",
       "        [24, 25, 26]]])"
      ]
     },
     "execution_count": 104,
     "metadata": {},
     "output_type": "execute_result"
    }
   ],
   "source": [
    "a3 = np.arange(27).reshape(3,3,3)\n",
    "a3"
   ]
  },
  {
   "cell_type": "code",
   "execution_count": 106,
   "id": "7a19f026",
   "metadata": {},
   "outputs": [
    {
     "name": "stdout",
     "output_type": "stream",
     "text": [
      "[[ 9 10 11]\n",
      " [12 13 14]\n",
      " [15 16 17]]\n"
     ]
    }
   ],
   "source": [
    "print(a3[1])"
   ]
  },
  {
   "cell_type": "code",
   "execution_count": 107,
   "id": "7db27a3d",
   "metadata": {},
   "outputs": [
    {
     "name": "stdout",
     "output_type": "stream",
     "text": [
      "[[[ 0  1  2]\n",
      "  [ 3  4  5]\n",
      "  [ 6  7  8]]\n",
      "\n",
      " [[18 19 20]\n",
      "  [21 22 23]\n",
      "  [24 25 26]]]\n"
     ]
    }
   ],
   "source": [
    "print(a3[::2])"
   ]
  },
  {
   "cell_type": "code",
   "execution_count": 109,
   "id": "bca84a21",
   "metadata": {},
   "outputs": [
    {
     "name": "stdout",
     "output_type": "stream",
     "text": [
      "[3 4 5]\n"
     ]
    }
   ],
   "source": [
    "print(a3[0,1,:])"
   ]
  },
  {
   "cell_type": "code",
   "execution_count": 110,
   "id": "4e6deef5",
   "metadata": {},
   "outputs": [
    {
     "name": "stdout",
     "output_type": "stream",
     "text": [
      "[10 13 16]\n"
     ]
    }
   ],
   "source": [
    "print(a3[1,:,1])"
   ]
  },
  {
   "cell_type": "code",
   "execution_count": 111,
   "id": "364b458c",
   "metadata": {},
   "outputs": [
    {
     "name": "stdout",
     "output_type": "stream",
     "text": [
      "[[22 23]\n",
      " [25 26]]\n"
     ]
    }
   ],
   "source": [
    "print(a3[2,1:,1:])"
   ]
  },
  {
   "cell_type": "code",
   "execution_count": 113,
   "id": "be5c0dc3",
   "metadata": {},
   "outputs": [
    {
     "name": "stdout",
     "output_type": "stream",
     "text": [
      "[[ 0  2]\n",
      " [18 20]]\n"
     ]
    }
   ],
   "source": [
    "print(a3[::2,0,::2])"
   ]
  },
  {
   "cell_type": "markdown",
   "id": "a23483a6",
   "metadata": {},
   "source": [
    "#### **Loops**"
   ]
  },
  {
   "cell_type": "markdown",
   "id": "635fdfac",
   "metadata": {},
   "source": [
    "For 1D"
   ]
  },
  {
   "cell_type": "code",
   "execution_count": 117,
   "id": "5f0c6a9d",
   "metadata": {},
   "outputs": [
    {
     "data": {
      "text/plain": [
       "array([ 0,  1,  2,  3,  4,  5,  6,  7,  8,  9, 10, 11, 12, 13, 14])"
      ]
     },
     "execution_count": 117,
     "metadata": {},
     "output_type": "execute_result"
    }
   ],
   "source": [
    "a1"
   ]
  },
  {
   "cell_type": "code",
   "execution_count": 114,
   "id": "c221ad2c",
   "metadata": {},
   "outputs": [
    {
     "name": "stdout",
     "output_type": "stream",
     "text": [
      "0\n",
      "1\n",
      "2\n",
      "3\n",
      "4\n",
      "5\n",
      "6\n",
      "7\n",
      "8\n",
      "9\n",
      "10\n",
      "11\n",
      "12\n",
      "13\n",
      "14\n"
     ]
    }
   ],
   "source": [
    "for i in a1:\n",
    "    print(i)"
   ]
  },
  {
   "cell_type": "markdown",
   "id": "c9591a2b",
   "metadata": {},
   "source": [
    "For 2D"
   ]
  },
  {
   "cell_type": "code",
   "execution_count": 116,
   "id": "19abeba9",
   "metadata": {},
   "outputs": [
    {
     "data": {
      "text/plain": [
       "array([[ 0,  1,  2,  3],\n",
       "       [ 4,  5,  6,  7],\n",
       "       [ 8,  9, 10, 11]])"
      ]
     },
     "execution_count": 116,
     "metadata": {},
     "output_type": "execute_result"
    }
   ],
   "source": [
    "a2"
   ]
  },
  {
   "cell_type": "code",
   "execution_count": null,
   "id": "c3884d02",
   "metadata": {},
   "outputs": [
    {
     "name": "stdout",
     "output_type": "stream",
     "text": [
      "[0 1 2 3]\n",
      "[4 5 6 7]\n",
      "[ 8  9 10 11]\n"
     ]
    }
   ],
   "source": [
    "for i in a2:\n",
    "    print(i)  # one time , one row"
   ]
  },
  {
   "cell_type": "markdown",
   "id": "fdf9ac6c",
   "metadata": {},
   "source": [
    "For 3D"
   ]
  },
  {
   "cell_type": "code",
   "execution_count": 118,
   "id": "99bccd77",
   "metadata": {},
   "outputs": [
    {
     "data": {
      "text/plain": [
       "array([[[ 0,  1,  2],\n",
       "        [ 3,  4,  5],\n",
       "        [ 6,  7,  8]],\n",
       "\n",
       "       [[ 9, 10, 11],\n",
       "        [12, 13, 14],\n",
       "        [15, 16, 17]],\n",
       "\n",
       "       [[18, 19, 20],\n",
       "        [21, 22, 23],\n",
       "        [24, 25, 26]]])"
      ]
     },
     "execution_count": 118,
     "metadata": {},
     "output_type": "execute_result"
    }
   ],
   "source": [
    "a3"
   ]
  },
  {
   "cell_type": "code",
   "execution_count": null,
   "id": "acf11023",
   "metadata": {},
   "outputs": [
    {
     "name": "stdout",
     "output_type": "stream",
     "text": [
      "[[0 1 2]\n",
      " [3 4 5]\n",
      " [6 7 8]]\n",
      "[[ 9 10 11]\n",
      " [12 13 14]\n",
      " [15 16 17]]\n",
      "[[18 19 20]\n",
      " [21 22 23]\n",
      " [24 25 26]]\n"
     ]
    }
   ],
   "source": [
    "for i in a3:\n",
    "    print(i)  # one time , one 2d array"
   ]
  },
  {
   "cell_type": "markdown",
   "id": "7229149b",
   "metadata": {},
   "source": [
    "**To iterate on each items**"
   ]
  },
  {
   "cell_type": "code",
   "execution_count": 120,
   "id": "c654ac5d",
   "metadata": {},
   "outputs": [
    {
     "name": "stdout",
     "output_type": "stream",
     "text": [
      "0\n",
      "1\n",
      "2\n",
      "3\n",
      "4\n",
      "5\n",
      "6\n",
      "7\n",
      "8\n",
      "9\n",
      "10\n",
      "11\n"
     ]
    }
   ],
   "source": [
    "for i in np.nditer(a2):\n",
    "    print(i)"
   ]
  },
  {
   "cell_type": "markdown",
   "id": "ebdbf239",
   "metadata": {},
   "source": [
    "#### **Reshaping the array**"
   ]
  },
  {
   "cell_type": "markdown",
   "id": "3142bf78",
   "metadata": {},
   "source": [
    "**Reshape**"
   ]
  },
  {
   "cell_type": "code",
   "execution_count": 121,
   "id": "384db8bf",
   "metadata": {},
   "outputs": [
    {
     "data": {
      "text/plain": [
       "array([ 0,  1,  2,  3,  4,  5,  6,  7,  8,  9, 10, 11, 12, 13, 14])"
      ]
     },
     "execution_count": 121,
     "metadata": {},
     "output_type": "execute_result"
    }
   ],
   "source": [
    "a1"
   ]
  },
  {
   "cell_type": "code",
   "execution_count": 124,
   "id": "cbd3b74d",
   "metadata": {},
   "outputs": [
    {
     "data": {
      "text/plain": [
       "array([[ 0,  1,  2,  3,  4],\n",
       "       [ 5,  6,  7,  8,  9],\n",
       "       [10, 11, 12, 13, 14]])"
      ]
     },
     "execution_count": 124,
     "metadata": {},
     "output_type": "execute_result"
    }
   ],
   "source": [
    "a1.reshape(3,5)"
   ]
  },
  {
   "cell_type": "markdown",
   "id": "76108891",
   "metadata": {},
   "source": [
    "**Transpose**"
   ]
  },
  {
   "cell_type": "code",
   "execution_count": 125,
   "id": "d4cfb2e3",
   "metadata": {},
   "outputs": [
    {
     "data": {
      "text/plain": [
       "array([[ 0,  1,  2,  3],\n",
       "       [ 4,  5,  6,  7],\n",
       "       [ 8,  9, 10, 11]])"
      ]
     },
     "execution_count": 125,
     "metadata": {},
     "output_type": "execute_result"
    }
   ],
   "source": [
    "a2"
   ]
  },
  {
   "cell_type": "code",
   "execution_count": null,
   "id": "b4df5307",
   "metadata": {},
   "outputs": [
    {
     "data": {
      "text/plain": [
       "array([[ 0,  4,  8],\n",
       "       [ 1,  5,  9],\n",
       "       [ 2,  6, 10],\n",
       "       [ 3,  7, 11]])"
      ]
     },
     "execution_count": 127,
     "metadata": {},
     "output_type": "execute_result"
    }
   ],
   "source": [
    "a2.transpose()   # or you can write --->  a2.T"
   ]
  },
  {
   "cell_type": "markdown",
   "id": "6bfa2e0e",
   "metadata": {},
   "source": [
    "**Ravel**\n",
    "\n",
    "Convert any dimension array to 1D"
   ]
  },
  {
   "cell_type": "code",
   "execution_count": 128,
   "id": "d2c1d135",
   "metadata": {},
   "outputs": [
    {
     "data": {
      "text/plain": [
       "array([ 0,  1,  2,  3,  4,  5,  6,  7,  8,  9, 10, 11])"
      ]
     },
     "execution_count": 128,
     "metadata": {},
     "output_type": "execute_result"
    }
   ],
   "source": [
    "a2.ravel()"
   ]
  },
  {
   "cell_type": "markdown",
   "id": "2dda599f",
   "metadata": {},
   "source": [
    "#### **Stacking**\n",
    "\n",
    "**Note : Size of both array must be same**"
   ]
  },
  {
   "cell_type": "markdown",
   "id": "94890d2a",
   "metadata": {},
   "source": [
    "**Horizontal Stacking**"
   ]
  },
  {
   "cell_type": "code",
   "execution_count": 135,
   "id": "e916bfd1",
   "metadata": {},
   "outputs": [
    {
     "name": "stdout",
     "output_type": "stream",
     "text": [
      "[[ 0  1  2  3]\n",
      " [ 4  5  6  7]\n",
      " [ 8  9 10 11]]\n",
      "\n",
      "[[12 13 14 15]\n",
      " [16 17 18 19]\n",
      " [20 21 22 23]]\n"
     ]
    }
   ],
   "source": [
    "a4 = np.arange(12).reshape(3,4)\n",
    "a5 = np.arange(12,24).reshape(3,4)\n",
    "\n",
    "print(a4)\n",
    "print()\n",
    "print(a5)\n"
   ]
  },
  {
   "cell_type": "code",
   "execution_count": 136,
   "id": "56c33b74",
   "metadata": {},
   "outputs": [
    {
     "data": {
      "text/plain": [
       "array([[ 0,  1,  2,  3, 12, 13, 14, 15],\n",
       "       [ 4,  5,  6,  7, 16, 17, 18, 19],\n",
       "       [ 8,  9, 10, 11, 20, 21, 22, 23]])"
      ]
     },
     "execution_count": 136,
     "metadata": {},
     "output_type": "execute_result"
    }
   ],
   "source": [
    "np.hstack((a4,a5))"
   ]
  },
  {
   "cell_type": "markdown",
   "id": "0a652211",
   "metadata": {},
   "source": [
    "**Vertical Stacking**"
   ]
  },
  {
   "cell_type": "code",
   "execution_count": 137,
   "id": "3eec1ae0",
   "metadata": {},
   "outputs": [
    {
     "data": {
      "text/plain": [
       "array([[ 0,  1,  2,  3],\n",
       "       [ 4,  5,  6,  7],\n",
       "       [ 8,  9, 10, 11],\n",
       "       [12, 13, 14, 15],\n",
       "       [16, 17, 18, 19],\n",
       "       [20, 21, 22, 23]])"
      ]
     },
     "execution_count": 137,
     "metadata": {},
     "output_type": "execute_result"
    }
   ],
   "source": [
    "np.vstack((a4,a5))"
   ]
  },
  {
   "cell_type": "markdown",
   "id": "5b16bbdf",
   "metadata": {},
   "source": [
    "#### **Spliting**"
   ]
  },
  {
   "cell_type": "markdown",
   "id": "6dc09886",
   "metadata": {},
   "source": [
    "**Horizontal Spliting**"
   ]
  },
  {
   "cell_type": "code",
   "execution_count": 138,
   "id": "278e6297",
   "metadata": {},
   "outputs": [
    {
     "name": "stdout",
     "output_type": "stream",
     "text": [
      "[[ 0  1  2  3]\n",
      " [ 4  5  6  7]\n",
      " [ 8  9 10 11]]\n"
     ]
    }
   ],
   "source": [
    "print(a4)"
   ]
  },
  {
   "cell_type": "code",
   "execution_count": 143,
   "id": "80dafd66",
   "metadata": {},
   "outputs": [
    {
     "data": {
      "text/plain": [
       "[array([[0, 1],\n",
       "        [4, 5],\n",
       "        [8, 9]]),\n",
       " array([[ 2,  3],\n",
       "        [ 6,  7],\n",
       "        [10, 11]])]"
      ]
     },
     "execution_count": 143,
     "metadata": {},
     "output_type": "execute_result"
    }
   ],
   "source": [
    "np.hsplit(a4,2)"
   ]
  },
  {
   "cell_type": "markdown",
   "id": "86d73874",
   "metadata": {},
   "source": [
    "**Vertical Spliting**"
   ]
  },
  {
   "cell_type": "code",
   "execution_count": 144,
   "id": "874769bf",
   "metadata": {},
   "outputs": [
    {
     "data": {
      "text/plain": [
       "array([[ 0,  1,  2,  3],\n",
       "       [ 4,  5,  6,  7],\n",
       "       [ 8,  9, 10, 11]])"
      ]
     },
     "execution_count": 144,
     "metadata": {},
     "output_type": "execute_result"
    }
   ],
   "source": [
    "a4"
   ]
  },
  {
   "cell_type": "code",
   "execution_count": 146,
   "id": "c385b200",
   "metadata": {},
   "outputs": [
    {
     "data": {
      "text/plain": [
       "[array([[0, 1, 2, 3]]), array([[4, 5, 6, 7]]), array([[ 8,  9, 10, 11]])]"
      ]
     },
     "execution_count": 146,
     "metadata": {},
     "output_type": "execute_result"
    }
   ],
   "source": [
    "np.vsplit(a4,3)"
   ]
  }
 ],
 "metadata": {
  "kernelspec": {
   "display_name": "MlWorld",
   "language": "python",
   "name": "python3"
  },
  "language_info": {
   "codemirror_mode": {
    "name": "ipython",
    "version": 3
   },
   "file_extension": ".py",
   "mimetype": "text/x-python",
   "name": "python",
   "nbconvert_exporter": "python",
   "pygments_lexer": "ipython3",
   "version": "3.10.18"
  }
 },
 "nbformat": 4,
 "nbformat_minor": 5
}
