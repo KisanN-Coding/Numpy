{
 "cells": [
  {
   "cell_type": "markdown",
   "id": "906bfe39",
   "metadata": {},
   "source": [
    "## **Numpy**"
   ]
  },
  {
   "cell_type": "markdown",
   "id": "691e94da",
   "metadata": {},
   "source": [
    "#### **Some Important Function of Numpy**"
   ]
  },
  {
   "cell_type": "code",
   "execution_count": 1,
   "id": "7835f850",
   "metadata": {},
   "outputs": [],
   "source": [
    "import numpy as np"
   ]
  },
  {
   "cell_type": "code",
   "execution_count": 2,
   "id": "93275b00",
   "metadata": {},
   "outputs": [
    {
     "name": "stdout",
     "output_type": "stream",
     "text": [
      "[99 33 75 12 12 63  6 19 55  1 71 26 64 44 44]\n"
     ]
    }
   ],
   "source": [
    "ar = np.random.randint(1,100,15)\n",
    "print(ar)\n"
   ]
  },
  {
   "cell_type": "code",
   "execution_count": 3,
   "id": "ba2abf9f",
   "metadata": {},
   "outputs": [
    {
     "name": "stdout",
     "output_type": "stream",
     "text": [
      "[[69 44 46 76]\n",
      " [72 95 21 78]\n",
      " [13 30 66  9]\n",
      " [25 24 55  6]\n",
      " [63 36 76 93]\n",
      " [67 14 13 68]]\n"
     ]
    }
   ],
   "source": [
    "ar1 = np.random.randint(1,100,24).reshape(6,4)\n",
    "print(ar1)"
   ]
  },
  {
   "cell_type": "markdown",
   "id": "3420bea5",
   "metadata": {},
   "source": [
    "#### **np.sort( )**\n",
    "\n",
    "The `np.sort()` function in NumPy is used to sort an array in ascending order\n",
    "\n",
    "**What it does:**\n",
    "\n",
    "- Returns a sorted copy of the input array\n",
    "\n",
    "- It does not sort in-place (original array remains unchanged)\n",
    "\n",
    "- By default, it sorts along the last axis (axis=-1)"
   ]
  },
  {
   "cell_type": "code",
   "execution_count": 4,
   "id": "81555a2a",
   "metadata": {},
   "outputs": [
    {
     "name": "stdout",
     "output_type": "stream",
     "text": [
      "[ 1  6 12 12 19 26 33 44 44 55 63 64 71 75 99]\n"
     ]
    }
   ],
   "source": [
    "print(np.sort(ar))"
   ]
  },
  {
   "cell_type": "code",
   "execution_count": 5,
   "id": "3af10ac7",
   "metadata": {},
   "outputs": [
    {
     "name": "stdout",
     "output_type": "stream",
     "text": [
      "[[44 46 69 76]\n",
      " [21 72 78 95]\n",
      " [ 9 13 30 66]\n",
      " [ 6 24 25 55]\n",
      " [36 63 76 93]\n",
      " [13 14 67 68]]\n"
     ]
    }
   ],
   "source": [
    "print(np.sort(ar1))   # By default row wise sorting"
   ]
  },
  {
   "cell_type": "markdown",
   "id": "4f59147b",
   "metadata": {},
   "source": [
    "**For Column wise**"
   ]
  },
  {
   "cell_type": "code",
   "execution_count": 6,
   "id": "47229b52",
   "metadata": {},
   "outputs": [
    {
     "name": "stdout",
     "output_type": "stream",
     "text": [
      "[[13 14 13  6]\n",
      " [25 24 21  9]\n",
      " [63 30 46 68]\n",
      " [67 36 55 76]\n",
      " [69 44 66 78]\n",
      " [72 95 76 93]]\n"
     ]
    }
   ],
   "source": [
    "print(np.sort(ar1,axis=0))"
   ]
  },
  {
   "cell_type": "markdown",
   "id": "6efbde33",
   "metadata": {},
   "source": [
    "**To sort in descending order**"
   ]
  },
  {
   "cell_type": "code",
   "execution_count": 7,
   "id": "f70f57db",
   "metadata": {},
   "outputs": [
    {
     "name": "stdout",
     "output_type": "stream",
     "text": [
      "[99 75 71 64 63 55 44 44 33 26 19 12 12  6  1]\n"
     ]
    }
   ],
   "source": [
    "print(np.sort(ar)[::-1])"
   ]
  },
  {
   "cell_type": "markdown",
   "id": "a6a7d70a",
   "metadata": {},
   "source": [
    "#### **np.append( )**\n",
    "\n",
    "The `np.append()` function is used to add values to the end of an array\n",
    "\n",
    "**Notes :**\n",
    "\n",
    "- If axis=None, both arrays are flattened before appending\n",
    "\n",
    "- The shapes must match if appending along a specific axis"
   ]
  },
  {
   "cell_type": "code",
   "execution_count": 8,
   "id": "0d28e08a",
   "metadata": {},
   "outputs": [
    {
     "data": {
      "text/plain": [
       "array([ 99,  33,  75,  12,  12,  63,   6,  19,  55,   1,  71,  26,  64,\n",
       "        44,  44, 200])"
      ]
     },
     "execution_count": 8,
     "metadata": {},
     "output_type": "execute_result"
    }
   ],
   "source": [
    "np.append(ar,200)"
   ]
  },
  {
   "cell_type": "code",
   "execution_count": 9,
   "id": "53053afa",
   "metadata": {},
   "outputs": [
    {
     "data": {
      "text/plain": [
       "array([[6.90000000e+01, 4.40000000e+01, 4.60000000e+01, 7.60000000e+01,\n",
       "        2.93500994e-01],\n",
       "       [7.20000000e+01, 9.50000000e+01, 2.10000000e+01, 7.80000000e+01,\n",
       "        2.30515619e-01],\n",
       "       [1.30000000e+01, 3.00000000e+01, 6.60000000e+01, 9.00000000e+00,\n",
       "        9.46718678e-01],\n",
       "       [2.50000000e+01, 2.40000000e+01, 5.50000000e+01, 6.00000000e+00,\n",
       "        8.79666005e-01],\n",
       "       [6.30000000e+01, 3.60000000e+01, 7.60000000e+01, 9.30000000e+01,\n",
       "        9.21679489e-03],\n",
       "       [6.70000000e+01, 1.40000000e+01, 1.30000000e+01, 6.80000000e+01,\n",
       "        6.67872854e-01]])"
      ]
     },
     "execution_count": 9,
     "metadata": {},
     "output_type": "execute_result"
    }
   ],
   "source": [
    "np.append(ar1,np.random.random((ar1.shape[0],1)),axis=1)"
   ]
  },
  {
   "cell_type": "markdown",
   "id": "3f0dd0d9",
   "metadata": {},
   "source": [
    "#### **np.concatenate**\n",
    "\n",
    "**The `np.concatenate()` function is used to join two or more arrays along an existing axis**\n",
    "\n",
    "**Key Points :**\n",
    "\n",
    "- Shapes must match along the axis you concatenate\n",
    "\n",
    "- It does not flatten arrays (unlike np.append() when axis=None)\n",
    "\n",
    "- Returns a new array (not in-place)"
   ]
  },
  {
   "cell_type": "code",
   "execution_count": 10,
   "id": "543fa40e",
   "metadata": {},
   "outputs": [
    {
     "name": "stdout",
     "output_type": "stream",
     "text": [
      "[[0 1 2]\n",
      " [3 4 5]]\n",
      "\n",
      "[[ 6  7  8]\n",
      " [ 9 10 11]]\n"
     ]
    }
   ],
   "source": [
    "c = np.arange(6).reshape(2,3)\n",
    "d = np.arange(6,12).reshape(2,3)\n",
    "\n",
    "print(c)\n",
    "print()\n",
    "print(d)"
   ]
  },
  {
   "cell_type": "code",
   "execution_count": 11,
   "id": "7bccdc35",
   "metadata": {},
   "outputs": [
    {
     "data": {
      "text/plain": [
       "array([[ 0,  1,  2],\n",
       "       [ 3,  4,  5],\n",
       "       [ 6,  7,  8],\n",
       "       [ 9, 10, 11]])"
      ]
     },
     "execution_count": 11,
     "metadata": {},
     "output_type": "execute_result"
    }
   ],
   "source": [
    "np.concatenate((c,d))"
   ]
  },
  {
   "cell_type": "code",
   "execution_count": 12,
   "id": "385d36b9",
   "metadata": {},
   "outputs": [
    {
     "data": {
      "text/plain": [
       "array([[ 0,  1,  2,  6,  7,  8],\n",
       "       [ 3,  4,  5,  9, 10, 11]])"
      ]
     },
     "execution_count": 12,
     "metadata": {},
     "output_type": "execute_result"
    }
   ],
   "source": [
    "np.concatenate((c,d),axis=1)  # column wise"
   ]
  },
  {
   "cell_type": "markdown",
   "id": "f47837e6",
   "metadata": {},
   "source": [
    "#### **np.unique**\n",
    "\n",
    "**The `np.unique()` function is used to find unique elements of an array. It can also return sorted unique values, their indices, and counts**\n",
    "\n",
    "**Parameters :**\n",
    "\n",
    "- arr → Input array\n",
    "\n",
    "- return_index → If True, returns indices of the first occurrence of each unique value\n",
    "\n",
    "- return_inverse → If True, returns indices to reconstruct original array\n",
    "\n",
    "- return_counts → If True, returns count of each unique element"
   ]
  },
  {
   "cell_type": "code",
   "execution_count": 13,
   "id": "5de65a4c",
   "metadata": {},
   "outputs": [
    {
     "name": "stdout",
     "output_type": "stream",
     "text": [
      "[1 2 3 4 5]\n"
     ]
    }
   ],
   "source": [
    "e = np.array([1,1,1,2,2,2,3,3,3,4,4,5,5])\n",
    "\n",
    "print(np.unique(e))"
   ]
  },
  {
   "cell_type": "markdown",
   "id": "76100ca3",
   "metadata": {},
   "source": [
    "#### **np.expand( )**\n",
    "\n",
    "**`np.expand_dims` is used to add a new axis (dimension) to a NumPy array at a specified position.\n",
    "This is useful when you want to reshape data for operations like broadcasting or feeding it into models (like in TensorFlow or PyTorch)**"
   ]
  },
  {
   "cell_type": "code",
   "execution_count": null,
   "id": "08e724fa",
   "metadata": {},
   "outputs": [
    {
     "name": "stdout",
     "output_type": "stream",
     "text": [
      "[49 11 36 39 22 37 49 48 15 48]\n",
      "[[49 11 36 39 22 37 49 48 15 48]]\n",
      "(1, 10)\n"
     ]
    }
   ],
   "source": [
    "a = np.random.randint(1,50,10)\n",
    "print(a)\n",
    "\n",
    "print(np.expand_dims(a,axis=0))  # column wise\n",
    "\n",
    "print(np.expand_dims(a,axis=0).shape)  # shape "
   ]
  },
  {
   "cell_type": "code",
   "execution_count": null,
   "id": "b26ad8ab",
   "metadata": {},
   "outputs": [
    {
     "name": "stdout",
     "output_type": "stream",
     "text": [
      "[[22]\n",
      " [ 2]\n",
      " [49]\n",
      " [43]\n",
      " [ 8]\n",
      " [ 8]\n",
      " [24]\n",
      " [27]\n",
      " [38]\n",
      " [22]]\n",
      "\n",
      "(10, 1)\n"
     ]
    }
   ],
   "source": [
    "print(np.expand_dims(a,axis=1))  # Row wise \n",
    "print()\n",
    "print(np.expand_dims(a,axis=1).shape)"
   ]
  },
  {
   "cell_type": "markdown",
   "id": "6b7a58b9",
   "metadata": {},
   "source": [
    "#### **np.where( )**\n",
    "\n",
    "**`np.where` is a powerful function in NumPy used for conditional filtering and element-wise selection**"
   ]
  },
  {
   "cell_type": "code",
   "execution_count": 41,
   "id": "bf60ab80",
   "metadata": {},
   "outputs": [
    {
     "name": "stdout",
     "output_type": "stream",
     "text": [
      "[49 11 36 39 22 37 49 48 15 48]\n"
     ]
    },
    {
     "data": {
      "text/plain": [
       "(array([0, 2, 3, 5, 6, 7, 9]),)"
      ]
     },
     "execution_count": 41,
     "metadata": {},
     "output_type": "execute_result"
    }
   ],
   "source": [
    "# Example : Find all indices with value greater than 50\n",
    "print(a)\n",
    "\n",
    "np.where(a > 30) # returns index positions"
   ]
  },
  {
   "cell_type": "markdown",
   "id": "8820f752",
   "metadata": {},
   "source": [
    "**Second Way to use it**\n",
    "\n",
    "**np.where( condition , true , false  )**"
   ]
  },
  {
   "cell_type": "code",
   "execution_count": 48,
   "id": "be9dcffd",
   "metadata": {},
   "outputs": [
    {
     "name": "stdout",
     "output_type": "stream",
     "text": [
      "[49 11 36 39 22 37 49 48 15 48]\n"
     ]
    },
    {
     "data": {
      "text/plain": [
       "array([ 0, 11,  0,  0, 22,  0,  0,  0, 15,  0])"
      ]
     },
     "execution_count": 48,
     "metadata": {},
     "output_type": "execute_result"
    }
   ],
   "source": [
    "print(a)\n",
    "\n",
    "# replacing all values > 50 with 0\n",
    "\n",
    "np.where(a > 30, 0, a)"
   ]
  },
  {
   "cell_type": "code",
   "execution_count": null,
   "id": "7ddaf892",
   "metadata": {},
   "outputs": [
    {
     "data": {
      "text/plain": [
       "array([49, 11,  0, 39,  0, 37, 49,  0, 15,  0])"
      ]
     },
     "execution_count": 49,
     "metadata": {},
     "output_type": "execute_result"
    }
   ],
   "source": [
    "# Example : Replacing all even numbers with 0 \n",
    "\n",
    "np.where(a % 2 == 0, 0, a)"
   ]
  },
  {
   "cell_type": "markdown",
   "id": "c83312e5",
   "metadata": {},
   "source": [
    "#### **np.argmax( )**\n",
    "\n",
    "**`np.argmax` is a NumPy function that returns the index of the maximum value in an array**"
   ]
  },
  {
   "cell_type": "code",
   "execution_count": 52,
   "id": "3707c28e",
   "metadata": {},
   "outputs": [
    {
     "name": "stdout",
     "output_type": "stream",
     "text": [
      "[49 11 36 39 22 37 49 48 15 48]\n",
      "0\n"
     ]
    }
   ],
   "source": [
    "print(a)\n",
    "\n",
    "print(np.argmax(a))"
   ]
  },
  {
   "cell_type": "code",
   "execution_count": 53,
   "id": "434fe099",
   "metadata": {},
   "outputs": [
    {
     "name": "stdout",
     "output_type": "stream",
     "text": [
      "[[69 44 46 76]\n",
      " [72 95 21 78]\n",
      " [13 30 66  9]\n",
      " [25 24 55  6]\n",
      " [63 36 76 93]\n",
      " [67 14 13 68]]\n"
     ]
    }
   ],
   "source": [
    "print(ar1)"
   ]
  },
  {
   "cell_type": "code",
   "execution_count": 54,
   "id": "3eed7c48",
   "metadata": {},
   "outputs": [
    {
     "name": "stdout",
     "output_type": "stream",
     "text": [
      "[1 1 4 4]\n"
     ]
    }
   ],
   "source": [
    "print(np.argmax(ar1,axis=0)) # Column wise"
   ]
  },
  {
   "cell_type": "code",
   "execution_count": 55,
   "id": "e1538838",
   "metadata": {},
   "outputs": [
    {
     "name": "stdout",
     "output_type": "stream",
     "text": [
      "[3 1 2 2 3 3]\n"
     ]
    }
   ],
   "source": [
    "print(np.argmax(ar1,axis=1)) # Row wise"
   ]
  },
  {
   "cell_type": "markdown",
   "id": "ca2c8bf8",
   "metadata": {},
   "source": [
    "**Same is there for minimum**\n",
    "\n",
    "**`np.argmin( )`**"
   ]
  },
  {
   "cell_type": "code",
   "execution_count": 57,
   "id": "57db3e6e",
   "metadata": {},
   "outputs": [
    {
     "name": "stdout",
     "output_type": "stream",
     "text": [
      "[49 11 36 39 22 37 49 48 15 48]\n",
      "\n",
      "1\n"
     ]
    }
   ],
   "source": [
    "print(a)\n",
    "\n",
    "print()\n",
    "\n",
    "print(np.argmin(a))"
   ]
  },
  {
   "cell_type": "markdown",
   "id": "461e63b4",
   "metadata": {},
   "source": [
    "#### **np.cumsum( )**\n",
    "\n",
    "**`np.cumsum()` stands for \"cumulative sum\" in NumPy**\n",
    "**It returns an array where each element is the sum of all previous elements in the input array (including itself)**"
   ]
  },
  {
   "cell_type": "code",
   "execution_count": 58,
   "id": "e3b3a375",
   "metadata": {},
   "outputs": [
    {
     "name": "stdout",
     "output_type": "stream",
     "text": [
      "[99 33 75 12 12 63  6 19 55  1 71 26 64 44 44]\n"
     ]
    }
   ],
   "source": [
    "print(ar)"
   ]
  },
  {
   "cell_type": "code",
   "execution_count": 59,
   "id": "7d208929",
   "metadata": {},
   "outputs": [
    {
     "data": {
      "text/plain": [
       "array([ 99, 132, 207, 219, 231, 294, 300, 319, 374, 375, 446, 472, 536,\n",
       "       580, 624])"
      ]
     },
     "execution_count": 59,
     "metadata": {},
     "output_type": "execute_result"
    }
   ],
   "source": [
    "np.cumsum(ar)"
   ]
  },
  {
   "cell_type": "markdown",
   "id": "b8091d6d",
   "metadata": {},
   "source": [
    "**Same there is : np.cumprod( )**"
   ]
  },
  {
   "cell_type": "code",
   "execution_count": 60,
   "id": "1e104522",
   "metadata": {},
   "outputs": [
    {
     "name": "stdout",
     "output_type": "stream",
     "text": [
      "[99 33 75 12 12 63  6 19 55  1 71 26 64 44 44]\n"
     ]
    }
   ],
   "source": [
    "print(ar)"
   ]
  },
  {
   "cell_type": "code",
   "execution_count": 63,
   "id": "751c2190",
   "metadata": {},
   "outputs": [
    {
     "name": "stdout",
     "output_type": "stream",
     "text": [
      "[                  99                 3267               245025\n",
      "              2940300             35283600           2222866800\n",
      "          13337200800         253406815200       13937374836000\n",
      "       13937374836000      989553613356000    25728393947256000\n",
      "  1646617212624384000 -1335818939365310464 -3435801110945005568]\n"
     ]
    }
   ],
   "source": [
    "print(np.cumprod(ar))"
   ]
  },
  {
   "cell_type": "markdown",
   "id": "a4994199",
   "metadata": {},
   "source": [
    "#### **np.percentile()**\n",
    "\n",
    "**`np.percentile()` is a NumPy function used to find the value below which a given percentage of data falls**"
   ]
  },
  {
   "cell_type": "code",
   "execution_count": 64,
   "id": "5cf20fb1",
   "metadata": {},
   "outputs": [
    {
     "name": "stdout",
     "output_type": "stream",
     "text": [
      "[99 33 75 12 12 63  6 19 55  1 71 26 64 44 44]\n"
     ]
    }
   ],
   "source": [
    "print(ar)"
   ]
  },
  {
   "cell_type": "code",
   "execution_count": null,
   "id": "43033b05",
   "metadata": {},
   "outputs": [
    {
     "name": "stdout",
     "output_type": "stream",
     "text": [
      "99.0\n",
      "1.0\n",
      "44.0\n"
     ]
    }
   ],
   "source": [
    "print(np.percentile(ar,100))\n",
    "\n",
    "print(np.percentile(ar,0))\n",
    "\n",
    "print(np.percentile(ar,50))"
   ]
  },
  {
   "cell_type": "markdown",
   "id": "108017eb",
   "metadata": {},
   "source": [
    "#### **np.histogram( )**\n",
    "\n",
    "**`np.histogram()` is a NumPy function used to compute the histogram of a dataset — that means it counts how many values fall into each range (bin)**"
   ]
  },
  {
   "cell_type": "code",
   "execution_count": 69,
   "id": "44bd9903",
   "metadata": {},
   "outputs": [
    {
     "data": {
      "text/plain": [
       "array([99, 33, 75, 12, 12, 63,  6, 19, 55,  1, 71, 26, 64, 44, 44])"
      ]
     },
     "execution_count": 69,
     "metadata": {},
     "output_type": "execute_result"
    }
   ],
   "source": [
    "ar"
   ]
  },
  {
   "cell_type": "code",
   "execution_count": 75,
   "id": "1439a6d9",
   "metadata": {},
   "outputs": [
    {
     "data": {
      "text/plain": [
       "(array([2, 3, 1, 1, 2, 1, 2, 2, 0, 1]),\n",
       " array([  0.,  10.,  20.,  30.,  40.,  50.,  60.,  70.,  80.,  90., 100.]))"
      ]
     },
     "execution_count": 75,
     "metadata": {},
     "output_type": "execute_result"
    }
   ],
   "source": [
    "np.histogram(ar,bins=10,range=(0,100))"
   ]
  },
  {
   "cell_type": "markdown",
   "id": "f86e91d7",
   "metadata": {},
   "source": [
    "#### **np.corrcoef( )**\n",
    "\n",
    "**`np.corrcoef()` is a NumPy function that calculates the Pearson correlation coefficient between two or more variables**\n"
   ]
  },
  {
   "cell_type": "code",
   "execution_count": 78,
   "id": "f54b6851",
   "metadata": {},
   "outputs": [
    {
     "name": "stdout",
     "output_type": "stream",
     "text": [
      "[2228 4764 6913 1528 8417 8752 4588 4805 4582 6853]\n",
      "[3 2 7 1 5 1 2 4 2 9]\n"
     ]
    }
   ],
   "source": [
    "salary = np.random.randint(1000,10000,10)\n",
    "exp = np.random.randint(1,10,10)\n",
    "\n",
    "print(salary)\n",
    "print(exp)"
   ]
  },
  {
   "cell_type": "code",
   "execution_count": 79,
   "id": "b1141a0d",
   "metadata": {},
   "outputs": [
    {
     "data": {
      "text/plain": [
       "array([[1.        , 0.41286771],\n",
       "       [0.41286771, 1.        ]])"
      ]
     },
     "execution_count": 79,
     "metadata": {},
     "output_type": "execute_result"
    }
   ],
   "source": [
    "np.corrcoef(salary,exp)"
   ]
  },
  {
   "cell_type": "markdown",
   "id": "8614191d",
   "metadata": {},
   "source": [
    "#### **np.isin( )**\n",
    "\n",
    "**np.isin() is a NumPy function that checks if elements in one array exist in another array**\n",
    "\n",
    "**It returns a Boolean array of the same shape as the first input**"
   ]
  },
  {
   "cell_type": "code",
   "execution_count": null,
   "id": "8ffd7f50",
   "metadata": {},
   "outputs": [
    {
     "data": {
      "text/plain": [
       "array([False, False, False, False, False, False,  True, False, False,\n",
       "        True, False, False, False, False, False])"
      ]
     },
     "execution_count": 83,
     "metadata": {},
     "output_type": "execute_result"
    }
   ],
   "source": [
    "items = [i for i in range(1,11)] # items one to ten\n",
    "\n",
    "np.isin(ar,items)"
   ]
  },
  {
   "cell_type": "code",
   "execution_count": 84,
   "id": "35b0f8f0",
   "metadata": {},
   "outputs": [
    {
     "data": {
      "text/plain": [
       "array([6, 1])"
      ]
     },
     "execution_count": 84,
     "metadata": {},
     "output_type": "execute_result"
    }
   ],
   "source": [
    "ar[np.isin(ar,items)]"
   ]
  },
  {
   "cell_type": "markdown",
   "id": "be6b5af1",
   "metadata": {},
   "source": [
    "#### **np.flip( )**\n",
    "\n",
    "**`np.flip()` is a NumPy function that reverses the order of elements in an array along the specified axis**"
   ]
  },
  {
   "cell_type": "code",
   "execution_count": 85,
   "id": "1c28be6a",
   "metadata": {},
   "outputs": [
    {
     "data": {
      "text/plain": [
       "array([99, 33, 75, 12, 12, 63,  6, 19, 55,  1, 71, 26, 64, 44, 44])"
      ]
     },
     "execution_count": 85,
     "metadata": {},
     "output_type": "execute_result"
    }
   ],
   "source": [
    "ar"
   ]
  },
  {
   "cell_type": "code",
   "execution_count": 86,
   "id": "06a7e9f1",
   "metadata": {},
   "outputs": [
    {
     "data": {
      "text/plain": [
       "array([44, 44, 64, 26, 71,  1, 55, 19,  6, 63, 12, 12, 75, 33, 99])"
      ]
     },
     "execution_count": 86,
     "metadata": {},
     "output_type": "execute_result"
    }
   ],
   "source": [
    "np.flip(ar)"
   ]
  },
  {
   "cell_type": "markdown",
   "id": "1accc172",
   "metadata": {},
   "source": [
    "**For 2D**"
   ]
  },
  {
   "cell_type": "code",
   "execution_count": 87,
   "id": "e2505f68",
   "metadata": {},
   "outputs": [
    {
     "data": {
      "text/plain": [
       "array([[69, 44, 46, 76],\n",
       "       [72, 95, 21, 78],\n",
       "       [13, 30, 66,  9],\n",
       "       [25, 24, 55,  6],\n",
       "       [63, 36, 76, 93],\n",
       "       [67, 14, 13, 68]])"
      ]
     },
     "execution_count": 87,
     "metadata": {},
     "output_type": "execute_result"
    }
   ],
   "source": [
    "ar1"
   ]
  },
  {
   "cell_type": "code",
   "execution_count": 88,
   "id": "69142627",
   "metadata": {},
   "outputs": [
    {
     "data": {
      "text/plain": [
       "array([[68, 13, 14, 67],\n",
       "       [93, 76, 36, 63],\n",
       "       [ 6, 55, 24, 25],\n",
       "       [ 9, 66, 30, 13],\n",
       "       [78, 21, 95, 72],\n",
       "       [76, 46, 44, 69]])"
      ]
     },
     "execution_count": 88,
     "metadata": {},
     "output_type": "execute_result"
    }
   ],
   "source": [
    "np.flip(ar1)"
   ]
  },
  {
   "cell_type": "code",
   "execution_count": 89,
   "id": "8561e087",
   "metadata": {},
   "outputs": [
    {
     "data": {
      "text/plain": [
       "array([[76, 46, 44, 69],\n",
       "       [78, 21, 95, 72],\n",
       "       [ 9, 66, 30, 13],\n",
       "       [ 6, 55, 24, 25],\n",
       "       [93, 76, 36, 63],\n",
       "       [68, 13, 14, 67]])"
      ]
     },
     "execution_count": 89,
     "metadata": {},
     "output_type": "execute_result"
    }
   ],
   "source": [
    "# For Row wise flipping\n",
    "np.flip(ar1,axis=1)"
   ]
  },
  {
   "cell_type": "code",
   "execution_count": 90,
   "id": "eb4b7798",
   "metadata": {},
   "outputs": [
    {
     "data": {
      "text/plain": [
       "array([[67, 14, 13, 68],\n",
       "       [63, 36, 76, 93],\n",
       "       [25, 24, 55,  6],\n",
       "       [13, 30, 66,  9],\n",
       "       [72, 95, 21, 78],\n",
       "       [69, 44, 46, 76]])"
      ]
     },
     "execution_count": 90,
     "metadata": {},
     "output_type": "execute_result"
    }
   ],
   "source": [
    "# For column wise flipping\n",
    "np.flip(ar1,axis=0)"
   ]
  },
  {
   "cell_type": "markdown",
   "id": "76e71843",
   "metadata": {},
   "source": [
    "#### **np.put( )**\n",
    "\n",
    "**`np.put()` is a NumPy function used to set specific values at specific indices in a flattened version of the array**"
   ]
  },
  {
   "cell_type": "code",
   "execution_count": 91,
   "id": "6810bf23",
   "metadata": {},
   "outputs": [
    {
     "data": {
      "text/plain": [
       "array([99, 33, 75, 12, 12, 63,  6, 19, 55,  1, 71, 26, 64, 44, 44])"
      ]
     },
     "execution_count": 91,
     "metadata": {},
     "output_type": "execute_result"
    }
   ],
   "source": [
    "ar"
   ]
  },
  {
   "cell_type": "code",
   "execution_count": 93,
   "id": "a7ebbbbf",
   "metadata": {},
   "outputs": [
    {
     "data": {
      "text/plain": [
       "array([100,  40,  75,  12,  12,  63,   6,  19,  55,   1,  71,  26,  64,\n",
       "        44,  44])"
      ]
     },
     "execution_count": 93,
     "metadata": {},
     "output_type": "execute_result"
    }
   ],
   "source": [
    "np.put(ar,[0,1],[100,40])  # This function makes permenent change\n",
    "ar"
   ]
  },
  {
   "cell_type": "markdown",
   "id": "2d6e3ad1",
   "metadata": {},
   "source": [
    "#### **np.delete( )**\n",
    "\n",
    "**np.delete( ) is a NumPy function used to remove elements from a NumPy array along a specified axis**"
   ]
  },
  {
   "cell_type": "code",
   "execution_count": 94,
   "id": "f571282c",
   "metadata": {},
   "outputs": [
    {
     "data": {
      "text/plain": [
       "array([100,  40,  75,  12,  12,  63,   6,  19,  55,   1,  71,  26,  64,\n",
       "        44,  44])"
      ]
     },
     "execution_count": 94,
     "metadata": {},
     "output_type": "execute_result"
    }
   ],
   "source": [
    "ar"
   ]
  },
  {
   "cell_type": "code",
   "execution_count": 96,
   "id": "2e58507c",
   "metadata": {},
   "outputs": [
    {
     "data": {
      "text/plain": [
       "array([40, 75, 12, 12, 63,  6, 19, 55,  1, 71, 26, 64, 44, 44])"
      ]
     },
     "execution_count": 96,
     "metadata": {},
     "output_type": "execute_result"
    }
   ],
   "source": [
    "np.delete(ar,0)"
   ]
  },
  {
   "cell_type": "code",
   "execution_count": 99,
   "id": "cef5d2e7",
   "metadata": {},
   "outputs": [
    {
     "data": {
      "text/plain": [
       "array([100,  40,  75,  12,  12,  63,   6,  19,  55,   1,  71,  26,  64,\n",
       "        44,  44])"
      ]
     },
     "execution_count": 99,
     "metadata": {},
     "output_type": "execute_result"
    }
   ],
   "source": [
    "ar"
   ]
  },
  {
   "cell_type": "code",
   "execution_count": 102,
   "id": "ba7b45a0",
   "metadata": {},
   "outputs": [
    {
     "data": {
      "text/plain": [
       "array([71, 26, 64, 44, 44])"
      ]
     },
     "execution_count": 102,
     "metadata": {},
     "output_type": "execute_result"
    }
   ],
   "source": [
    "np.delete(ar,[i for i in range(0,10)])"
   ]
  },
  {
   "cell_type": "markdown",
   "id": "33744988",
   "metadata": {},
   "source": [
    "### **Set Functions**"
   ]
  },
  {
   "cell_type": "markdown",
   "id": "07fc36b3",
   "metadata": {},
   "source": [
    "| Function           | Description                                                 |\n",
    "| ------------------ | ----------------------------------------------------------- |\n",
    "| `np.intersect1d()` | Elements common to both arrays                              |\n",
    "| `np.setdiff1d()`   | Elements in `a` but not in `b`                              |\n",
    "| `np.setxor1d()`    | Elements in `a` or `b` but not both (symmetric difference)  |\n",
    "| `np.union1d()`     | All unique elements from both arrays                        |\n"
   ]
  },
  {
   "cell_type": "code",
   "execution_count": 107,
   "id": "ee9b5f84",
   "metadata": {},
   "outputs": [
    {
     "name": "stdout",
     "output_type": "stream",
     "text": [
      "[ 2  4  6  8 10 12 14 16 18 20] [22 24 26 28 30 32 34 36 38 40]\n"
     ]
    }
   ],
   "source": [
    "m = np.array([i*2 for i in range(1,11)])\n",
    "n = np.array([i*2 for i in range(11,21)])\n",
    "\n",
    "print(m,n)"
   ]
  },
  {
   "cell_type": "markdown",
   "id": "d7f7b181",
   "metadata": {},
   "source": [
    "**union1d( )**"
   ]
  },
  {
   "cell_type": "code",
   "execution_count": 108,
   "id": "b76aae6b",
   "metadata": {},
   "outputs": [
    {
     "data": {
      "text/plain": [
       "array([ 2,  4,  6,  8, 10, 12, 14, 16, 18, 20, 22, 24, 26, 28, 30, 32, 34,\n",
       "       36, 38, 40])"
      ]
     },
     "execution_count": 108,
     "metadata": {},
     "output_type": "execute_result"
    }
   ],
   "source": [
    "np.union1d(m,n)"
   ]
  },
  {
   "cell_type": "markdown",
   "id": "f7589450",
   "metadata": {},
   "source": [
    "**intersect1d( )** "
   ]
  },
  {
   "cell_type": "code",
   "execution_count": 109,
   "id": "d259b866",
   "metadata": {},
   "outputs": [
    {
     "data": {
      "text/plain": [
       "array([], dtype=int64)"
      ]
     },
     "execution_count": 109,
     "metadata": {},
     "output_type": "execute_result"
    }
   ],
   "source": [
    "np.intersect1d(m,n)"
   ]
  },
  {
   "cell_type": "markdown",
   "id": "ac13b096",
   "metadata": {},
   "source": [
    "**setdiff1d( )**"
   ]
  },
  {
   "cell_type": "code",
   "execution_count": 110,
   "id": "9d050c8b",
   "metadata": {},
   "outputs": [
    {
     "data": {
      "text/plain": [
       "array([ 2,  4,  6,  8, 10, 12, 14, 16, 18, 20])"
      ]
     },
     "execution_count": 110,
     "metadata": {},
     "output_type": "execute_result"
    }
   ],
   "source": [
    "np.setdiff1d(m,n)"
   ]
  },
  {
   "cell_type": "code",
   "execution_count": 111,
   "id": "5e2c14d9",
   "metadata": {},
   "outputs": [
    {
     "data": {
      "text/plain": [
       "array([22, 24, 26, 28, 30, 32, 34, 36, 38, 40])"
      ]
     },
     "execution_count": 111,
     "metadata": {},
     "output_type": "execute_result"
    }
   ],
   "source": [
    "np.setdiff1d(n,m)"
   ]
  },
  {
   "cell_type": "markdown",
   "id": "c0247f7b",
   "metadata": {},
   "source": [
    "**setxor1d( )**"
   ]
  },
  {
   "cell_type": "code",
   "execution_count": 112,
   "id": "9512137f",
   "metadata": {},
   "outputs": [
    {
     "data": {
      "text/plain": [
       "array([ 2,  4,  6,  8, 10, 12, 14, 16, 18, 20, 22, 24, 26, 28, 30, 32, 34,\n",
       "       36, 38, 40])"
      ]
     },
     "execution_count": 112,
     "metadata": {},
     "output_type": "execute_result"
    }
   ],
   "source": [
    "np.setxor1d(m,n)"
   ]
  },
  {
   "cell_type": "markdown",
   "id": "cc5b37d6",
   "metadata": {},
   "source": [
    "#### **np.clip( )**\n",
    "\n",
    "**`np.clip()` is a NumPy function used to limit the values in an array**\n",
    "\n",
    "**It \"clips\" (restricts) all values below a minimum and above a maximum to the given range**"
   ]
  },
  {
   "cell_type": "code",
   "execution_count": 115,
   "id": "e8422f94",
   "metadata": {},
   "outputs": [
    {
     "data": {
      "text/plain": [
       "array([100,  40,  75,  12,  12,  63,   6,  19,  55,   1,  71,  26,  64,\n",
       "        44,  44])"
      ]
     },
     "execution_count": 115,
     "metadata": {},
     "output_type": "execute_result"
    }
   ],
   "source": [
    "ar"
   ]
  },
  {
   "cell_type": "code",
   "execution_count": 119,
   "id": "a0e4bc06",
   "metadata": {},
   "outputs": [
    {
     "data": {
      "text/plain": [
       "array([70, 40, 70, 25, 25, 63, 25, 25, 55, 25, 70, 26, 64, 44, 44])"
      ]
     },
     "execution_count": 119,
     "metadata": {},
     "output_type": "execute_result"
    }
   ],
   "source": [
    "np.clip(ar,a_min=25,a_max=70)"
   ]
  }
 ],
 "metadata": {
  "kernelspec": {
   "display_name": "MlWorld",
   "language": "python",
   "name": "python3"
  },
  "language_info": {
   "codemirror_mode": {
    "name": "ipython",
    "version": 3
   },
   "file_extension": ".py",
   "mimetype": "text/x-python",
   "name": "python",
   "nbconvert_exporter": "python",
   "pygments_lexer": "ipython3",
   "version": "3.10.18"
  }
 },
 "nbformat": 4,
 "nbformat_minor": 5
}
